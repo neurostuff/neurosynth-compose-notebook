{
 "cells": [
  {
   "cell_type": "markdown",
   "id": "69c306a1-f24a-410a-b034-f002bc0b7a97",
   "metadata": {
    "id": "69c306a1-f24a-410a-b034-f002bc0b7a97"
   },
   "source": [
    "# Neurosynth Compose Notebook\n",
    "\n",
    "After you've built your meta-analysis on [neurosynth compose](https://compose.neurosynth.org), you can use this notebook to execute and view the meta-analytic results."
   ]
  },
  {
   "cell_type": "code",
   "execution_count": null,
   "id": "28d0e8b6-9bbd-4256-a19a-ff36eeca5cfd",
   "metadata": {
    "id": "28d0e8b6-9bbd-4256-a19a-ff36eeca5cfd"
   },
   "outputs": [],
   "source": [
    "#@title Run once to install NiMARE (~1 minute)\n",
    "%%capture --no-display --no-stderr\n",
    "%%bash\n",
    "pip install -r requirements.txt"
   ]
  },
  {
   "cell_type": "markdown",
   "id": "37860b1b-5031-4bd7-8e86-c668f545126b",
   "metadata": {
    "id": "37860b1b-5031-4bd7-8e86-c668f545126b"
   },
   "source": [
    "## INSERT YOUR META-ANALYSIS ID HERE\n",
    "\n",
    "This is the id for your specific meta-analysis"
   ]
  },
  {
   "cell_type": "code",
   "execution_count": null,
   "id": "178c5406-2625-4048-af3c-c01bdb5e1b56",
   "metadata": {
    "id": "178c5406-2625-4048-af3c-c01bdb5e1b56"
   },
   "outputs": [],
   "source": [
    "#@title Set your Neurosynth-Compose Meta-Analysis ID { run: \"auto\" }\n",
    "META_ID = input(\"Paste the 12 character ID of the meta-analysis here: \")  # for example: \"8dJ6tG7wfbyS\"\n",
    "META_ID = META_ID.replace(\" \", \"\")"
   ]
  },
  {
   "cell_type": "markdown",
   "id": "7dccf070-a1cc-4471-97f1-d386374a80df",
   "metadata": {
    "id": "7dccf070-a1cc-4471-97f1-d386374a80df"
   },
   "source": [
    "## Run your selected Meta-Analysis\n",
    "\n",
    "A workflow in NiMARE will interpret the meta-analysis you specified and\n",
    "run the selected algorithm and corrector (optional) on the studyset selected."
   ]
  },
  {
   "cell_type": "code",
   "execution_count": null,
   "id": "8aee063b-9a03-4cd0-8de5-46b66cdf19c4",
   "metadata": {
    "id": "8aee063b-9a03-4cd0-8de5-46b66cdf19c4"
   },
   "outputs": [],
   "source": [
    "from pynsc.run import run  #  special workflow to run meta-analysis"
   ]
  },
  {
   "cell_type": "code",
   "execution_count": null,
   "id": "51a1e194-af1a-461c-a73f-3e79a31db95f",
   "metadata": {
    "id": "51a1e194-af1a-461c-a73f-3e79a31db95f"
   },
   "outputs": [],
   "source": [
    "if META_ID is not None:\n",
    "    _, meta_result = run(META_ID)\n",
    "else:\n",
    "    print(\"UPDATE META_ID VARIABLE TO YOUR META-ANALYSIS\")"
   ]
  },
  {
   "cell_type": "markdown",
   "id": "36d13a9a-b29c-48b3-87d3-4b37cf14cf63",
   "metadata": {
    "id": "36d13a9a-b29c-48b3-87d3-4b37cf14cf63",
    "tags": []
   },
   "source": [
    "## Create and view a report of the results\n",
    "\n",
    "The Default is the z map, but each estimator/corrector combination may generate\n",
    "corrected/more appropriate statistical maps for investigation."
   ]
  },
  {
   "cell_type": "code",
   "execution_count": null,
   "id": "347e806d-a264-416e-8d52-8f9574bd3a58",
   "metadata": {
    "id": "347e806d-a264-416e-8d52-8f9574bd3a58"
   },
   "outputs": [],
   "source": [
    "from nimare.reports import run_reports"
   ]
  },
  {
   "cell_type": "code",
   "execution_count": null,
   "id": "5767b0b3-8085-4c6a-9812-a1845b036266",
   "metadata": {},
   "outputs": [],
   "source": [
    "run_reports(meta_result, 'report')"
   ]
  },
  {
   "cell_type": "code",
   "execution_count": null,
   "id": "c6a2fe31-e718-4b3c-87dc-2e7c45975de2",
   "metadata": {
    "scrolled": true
   },
   "outputs": [],
   "source": [
    "from IPython.display import IFrame\n",
    "\n",
    "IFrame(\"./report/report.html\", width=\"100%\", height=\"1000px\")"
   ]
  },
  {
   "cell_type": "markdown",
   "id": "b43d40b3-9c1d-490c-a3a2-173e04755932",
   "metadata": {
    "id": "b43d40b3-9c1d-490c-a3a2-173e04755932"
   },
   "source": [
    "## What next?\n",
    "\n"
   ]
  },
  {
   "cell_type": "code",
   "execution_count": null,
   "id": "c497f2c1-e885-4527-8696-9ad3163c4121",
   "metadata": {},
   "outputs": [],
   "source": []
  }
 ],
 "metadata": {
  "colab": {
   "provenance": []
  },
  "kernelspec": {
   "display_name": "Python 3 (ipykernel)",
   "language": "python",
   "name": "python3"
  },
  "language_info": {
   "codemirror_mode": {
    "name": "ipython",
    "version": 3
   },
   "file_extension": ".py",
   "mimetype": "text/x-python",
   "name": "python",
   "nbconvert_exporter": "python",
   "pygments_lexer": "ipython3",
   "version": "3.8.10"
  }
 },
 "nbformat": 4,
 "nbformat_minor": 5
}
