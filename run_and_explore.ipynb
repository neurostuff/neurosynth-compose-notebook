{
  "cells": [
    {
      "cell_type": "markdown",
      "id": "69c306a1-f24a-410a-b034-f002bc0b7a97",
      "metadata": {
        "id": "69c306a1-f24a-410a-b034-f002bc0b7a97"
      },
      "source": [
        "# Neurosynth Compose Notebook\n",
        "\n",
        "After you've built your meta-analysis on [neurosynth compose](https://compose.neurosynth.org), you can use this notebook to execute and view the meta-analytic results."
      ]
    },
    {
      "cell_type": "code",
      "execution_count": null,
      "id": "28d0e8b6-9bbd-4256-a19a-ff36eeca5cfd",
      "metadata": {
        "id": "28d0e8b6-9bbd-4256-a19a-ff36eeca5cfd",
        "cellView": "form"
      },
      "outputs": [],
      "source": [
        "#@title Run once to install NiMARE (~1 minute)\n",
        "%%capture --no-display --no-stderr\n",
        "%%bash\n",
        "wget https://raw.githubusercontent.com/neurostuff/neurosynth-compose-notebook/main/requirements.txt\n",
        "pip install -r requirements.txt"
      ]
    },
    {
      "cell_type": "markdown",
      "id": "7dccf070-a1cc-4471-97f1-d386374a80df",
      "metadata": {
        "id": "7dccf070-a1cc-4471-97f1-d386374a80df"
      },
      "source": [
        "## Run your selected Meta-Analysis\n",
        "\n",
        "A workflow in NiMARE will interpret the meta-analysis you specified and\n",
        "run the selected algorithm and corrector (optional) on the studyset selected."
      ]
    },
    {
      "cell_type": "code",
      "execution_count": null,
      "id": "51a1e194-af1a-461c-a73f-3e79a31db95f",
      "metadata": {
        "id": "51a1e194-af1a-461c-a73f-3e79a31db95f",
        "cellView": "form"
      },
      "outputs": [],
      "source": [
        "#@title Insert the Meta-Analysis ID and Execute your Meta-Analysis { vertical-output: true }\n",
        "from pynsc.run import run  #  special workflow to run meta-analysis\n",
        "META_ID = \"\" #@param {type:\"string\"}\n",
        "url = meta_result = None\n",
        "if META_ID is not None:\n",
        "    url, meta_result = run(META_ID)\n",
        "else:\n",
        "    print(\"UPDATE META_ID VARIABLE TO YOUR META-ANALYSIS\")\n",
        "\n",
        "if url is not None:\n",
        "  print(f\"view the completed meta-analysis here: {url}\")"
      ]
    },
    {
      "cell_type": "markdown",
      "id": "36d13a9a-b29c-48b3-87d3-4b37cf14cf63",
      "metadata": {
        "id": "36d13a9a-b29c-48b3-87d3-4b37cf14cf63",
        "tags": []
      },
      "source": [
        "## Create a Report\n",
        "\n",
        "NiMARE can generate a report of the meta-analysis for you to view and explore. The report provides an overview of the coordinates input into the meta-analysis, key statistical maps, statistically significant clusters, and diagnostics to view the contributions of individual studies to each cluster.\n"
      ]
    },
    {
      "cell_type": "code",
      "execution_count": null,
      "id": "5767b0b3-8085-4c6a-9812-a1845b036266",
      "metadata": {
        "id": "5767b0b3-8085-4c6a-9812-a1845b036266"
      },
      "outputs": [],
      "source": [
        "from nimare.reports import run_reports\n",
        "run_reports(meta_result, 'report')"
      ]
    },
    {
      "cell_type": "markdown",
      "source": [
        "## View the Report\n",
        "\n",
        "You can either download the report using the cell below, or view the contents in google colab two cells below."
      ],
      "metadata": {
        "id": "Bywzroq08EnR"
      },
      "id": "Bywzroq08EnR"
    },
    {
      "cell_type": "code",
      "source": [
        "#@title Download the Report\n",
        "from google.colab import files\n",
        "import shutil\n",
        "\n",
        "folder_path = '/content/report'  # Replace with the path to your folder\n",
        "\n",
        "# Zip the folder\n",
        "shutil.make_archive('/content/report', 'zip', folder_path)\n",
        "\n",
        "\n",
        "\n",
        "# Download the zip file\n",
        "files.download('/content/report.zip')\n",
        "\n"
      ],
      "metadata": {
        "id": "1g7ewj1h2Xtw",
        "cellView": "form"
      },
      "id": "1g7ewj1h2Xtw",
      "execution_count": null,
      "outputs": []
    },
    {
      "cell_type": "code",
      "execution_count": null,
      "metadata": {
        "id": "9OyC1_bSEccg",
        "cellView": "form"
      },
      "outputs": [],
      "source": [
        "#@title Display the Report\n",
        "import portpicker\n",
        "import threading\n",
        "import socket\n",
        "import IPython\n",
        "\n",
        "from six.moves import socketserver\n",
        "from six.moves import SimpleHTTPServer\n",
        "\n",
        "class V6Server(socketserver.TCPServer):\n",
        "  address_family = socket.AF_INET6\n",
        "\n",
        "class Handler(SimpleHTTPServer.SimpleHTTPRequestHandler):\n",
        "  def end_headers(self):\n",
        "        self.send_header('Access-Control-Allow-Origin', '*')\n",
        "        super().end_headers()\n",
        "\n",
        "port = portpicker.pick_unused_port()\n",
        "\n",
        "def server_entry():\n",
        "    httpd = V6Server(('::', port), Handler)\n",
        "    # Handle a single request then exit the thread.\n",
        "    httpd.serve_forever()\n",
        "\n",
        "thread = threading.Thread(target=server_entry)\n",
        "thread.start()\n",
        "\n",
        "from google.colab import output\n",
        "output.serve_kernel_port_as_iframe(port, path='/report/report.html')"
      ],
      "id": "9OyC1_bSEccg"
    }
  ],
  "metadata": {
    "colab": {
      "provenance": []
    },
    "kernelspec": {
      "display_name": "Python 3 (ipykernel)",
      "language": "python",
      "name": "python3"
    },
    "language_info": {
      "codemirror_mode": {
        "name": "ipython",
        "version": 3
      },
      "file_extension": ".py",
      "mimetype": "text/x-python",
      "name": "python",
      "nbconvert_exporter": "python",
      "pygments_lexer": "ipython3",
      "version": "3.8.10"
    }
  },
  "nbformat": 4,
  "nbformat_minor": 5
}