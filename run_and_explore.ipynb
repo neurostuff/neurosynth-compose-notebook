{
 "cells": [
  {
   "cell_type": "code",
   "execution_count": null,
   "id": "28d0e8b6-9bbd-4256-a19a-ff36eeca5cfd",
   "metadata": {},
   "outputs": [],
   "source": [
    "%%bash\n",
    "pip install -r requirements.txt"
   ]
  },
  {
   "cell_type": "markdown",
   "id": "37860b1b-5031-4bd7-8e86-c668f545126b",
   "metadata": {},
   "source": [
    "## INSERT YOUR META-ANALYSIS ID HERE"
   ]
  },
  {
   "cell_type": "code",
   "execution_count": null,
   "id": "178c5406-2625-4048-af3c-c01bdb5e1b56",
   "metadata": {},
   "outputs": [],
   "source": [
    "META_ID = \"3SD2A7LGuQTm\""
   ]
  },
  {
   "cell_type": "code",
   "execution_count": null,
   "id": "8aee063b-9a03-4cd0-8de5-46b66cdf19c4",
   "metadata": {},
   "outputs": [],
   "source": [
    "from nimare.workflows import compose_run\n",
    "from nilearn.plotting import plot_stat_map"
   ]
  },
  {
   "cell_type": "code",
   "execution_count": null,
   "id": "51a1e194-af1a-461c-a73f-3e79a31db95f",
   "metadata": {},
   "outputs": [],
   "source": [
    "if META_ID is not None:\n",
    "    meta_result = compose_run(META_ID)\n",
    "else:\n",
    "    print(\"UPDATE META_ID VARIABLE TO YOUR META-ANALYSIS\")"
   ]
  },
  {
   "cell_type": "markdown",
   "id": "36d13a9a-b29c-48b3-87d3-4b37cf14cf63",
   "metadata": {
    "tags": []
   },
   "source": [
    "## Choose which statistical map to investigate\n",
    "default is z map, but each estimator/corrector combination may generate corrected/more appropriate statistical maps for summary/investigation"
   ]
  },
  {
   "cell_type": "code",
   "execution_count": null,
   "id": "090cc2f6-9c74-4b53-bdd5-c815d35853f1",
   "metadata": {},
   "outputs": [],
   "source": [
    "# here are your choices\n",
    "print(\"\\n\".join(list(meta_result.maps.keys())))"
   ]
  },
  {
   "cell_type": "code",
   "execution_count": null,
   "id": "b8b279c8-b4eb-45bb-9b7b-21d8bf0a06d0",
   "metadata": {},
   "outputs": [],
   "source": [
    "STAT_NAME = \"z\"\n",
    "stat_map = meta_result.get_map(STAT_NAME)"
   ]
  },
  {
   "cell_type": "code",
   "execution_count": null,
   "id": "a70307bd-8b99-4f77-a2d9-95373dd94a7b",
   "metadata": {},
   "outputs": [],
   "source": [
    "plot_stat_map(stat_map)"
   ]
  },
  {
   "cell_type": "markdown",
   "id": "b43d40b3-9c1d-490c-a3a2-173e04755932",
   "metadata": {},
   "source": [
    "## Investigate what studies contributed to which clusters"
   ]
  },
  {
   "cell_type": "code",
   "execution_count": null,
   "id": "5732cece-ec55-44cb-996c-e56a26ba1639",
   "metadata": {},
   "outputs": [],
   "source": [
    "from nimare.diagnostics import FocusCounter # Only works for coordinate-based meta-analyses\n",
    "fc = FocusCounter(target_image=STAT_NAME)"
   ]
  },
  {
   "cell_type": "code",
   "execution_count": null,
   "id": "2908b852-a2c4-4f8e-92ce-436ab79ce5f9",
   "metadata": {},
   "outputs": [],
   "source": [
    "contribution_table, cluster_img = fc.transform(meta_result)"
   ]
  },
  {
   "cell_type": "code",
   "execution_count": null,
   "id": "eaa9b534-d3ac-4b02-bc90-2aa60fec62c1",
   "metadata": {},
   "outputs": [],
   "source": [
    "contribution_table"
   ]
  }
 ],
 "metadata": {
  "kernelspec": {
   "display_name": "Python 3 (ipykernel)",
   "language": "python",
   "name": "python3"
  },
  "language_info": {
   "codemirror_mode": {
    "name": "ipython",
    "version": 3
   },
   "file_extension": ".py",
   "mimetype": "text/x-python",
   "name": "python",
   "nbconvert_exporter": "python",
   "pygments_lexer": "ipython3",
   "version": "3.8.10"
  }
 },
 "nbformat": 4,
 "nbformat_minor": 5
}
