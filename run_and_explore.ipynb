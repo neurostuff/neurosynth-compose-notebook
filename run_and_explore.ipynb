{
  "cells": [
    {
      "cell_type": "markdown",
      "id": "69c306a1-f24a-410a-b034-f002bc0b7a97",
      "metadata": {
        "id": "69c306a1-f24a-410a-b034-f002bc0b7a97"
      },
      "source": [
        "# Neurosynth Compose Meta-Analysis Notebook\n",
        "\n",
        "After you've built your meta-analysis on [neurosynth compose](https://compose.neurosynth.org), you can use this notebook to execute, upload, and explore the results."
      ]
    },
    {
      "cell_type": "code",
      "execution_count": null,
      "id": "51a1e194-af1a-461c-a73f-3e79a31db95f",
      "metadata": {
        "id": "51a1e194-af1a-461c-a73f-3e79a31db95f",
        "cellView": "form"
      },
      "outputs": [],
      "source": [
        "#@title 1) Enter Meta-Analysis ID Below: { vertical-output: true }\n",
        "META_ID = \"\" #@param {type:\"string\"}\n",
        "META_ID = ''.join(META_ID.split()) # preprocess string\n",
        "if META_ID is None:\n",
        "    raise Exception(\"UPDATE META_ID VARIABLE TO YOUR META-ANALYSIS\")"
      ]
    },
    {
      "cell_type": "markdown",
      "source": [
        "### 2) Run All Cells to execute\n",
        "\n",
        "Using the Toolbar (Runtime -> Run All) or Ctrl/⌘ + F9"
      ],
      "metadata": {
        "id": "TNICirThVAYn"
      },
      "id": "TNICirThVAYn"
    },
    {
      "cell_type": "markdown",
      "source": [
        "---"
      ],
      "metadata": {
        "id": "p0s34alnZZeN"
      },
      "id": "p0s34alnZZeN"
    },
    {
      "cell_type": "code",
      "execution_count": null,
      "id": "28d0e8b6-9bbd-4256-a19a-ff36eeca5cfd",
      "metadata": {
        "id": "28d0e8b6-9bbd-4256-a19a-ff36eeca5cfd",
        "cellView": "form"
      },
      "outputs": [],
      "source": [
        "#@title Setup environment (~1 minute)\n",
        "%%capture --no-display --no-stderr\n",
        "!wget https://raw.githubusercontent.com/neurostuff/neurosynth-compose-notebook/main/requirements.txt\n",
        "%pip install -r requirements.txt"
      ]
    },
    {
      "cell_type": "code",
      "source": [
        "#@title Run Meta-Analysis (~1-10+ minutes)\n",
        "from compose_runner.run import run  #  special workflow to run meta-analysis\n",
        "\n",
        "url, meta_result = run(META_ID)\n",
        "\n",
        "print(f\"\"\"\n",
        "==================================================================================================\n",
        "Your results are automatically uploaded to Neurosynth Compose. \\n\n",
        "View completed meta-analysis here: {url}\n",
        "==================================================================================================\"\"\")"
      ],
      "metadata": {
        "id": "nlbS_jl_QFRK",
        "cellView": "form"
      },
      "id": "nlbS_jl_QFRK",
      "execution_count": null,
      "outputs": []
    },
    {
      "cell_type": "markdown",
      "id": "36d13a9a-b29c-48b3-87d3-4b37cf14cf63",
      "metadata": {
        "id": "36d13a9a-b29c-48b3-87d3-4b37cf14cf63",
        "tags": []
      },
      "source": [
        "## Interactive Report\n",
        "\n",
        "NiMARE can also generate a comprehensive report of the meta-analysis for you to view and explore. The report provides an overview of the input coordinates input, key statistical maps, statistically significant clusters, and diagnostics to view the contributions of individual studies to each cluster.\n"
      ]
    },
    {
      "cell_type": "code",
      "execution_count": null,
      "id": "5767b0b3-8085-4c6a-9812-a1845b036266",
      "metadata": {
        "id": "5767b0b3-8085-4c6a-9812-a1845b036266"
      },
      "outputs": [],
      "source": [
        "from nimare.reports import run_reports\n",
        "run_reports(meta_result, 'report')"
      ]
    },
    {
      "cell_type": "code",
      "execution_count": null,
      "id": "9OyC1_bSEccg",
      "metadata": {
        "id": "9OyC1_bSEccg",
        "cellView": "form"
      },
      "outputs": [],
      "source": [
        "#@title View\n",
        "import portpicker\n",
        "import threading\n",
        "import socket\n",
        "import IPython\n",
        "\n",
        "from six.moves import socketserver\n",
        "from six.moves import SimpleHTTPServer\n",
        "\n",
        "class V6Server(socketserver.TCPServer):\n",
        "  address_family = socket.AF_INET6\n",
        "\n",
        "class Handler(SimpleHTTPServer.SimpleHTTPRequestHandler):\n",
        "  def end_headers(self):\n",
        "        self.send_header('Access-Control-Allow-Origin', '*')\n",
        "        super().end_headers()\n",
        "\n",
        "port = portpicker.pick_unused_port()\n",
        "\n",
        "def server_entry():\n",
        "    httpd = V6Server(('::', port), Handler)\n",
        "    # Handle a single request then exit the thread.\n",
        "    httpd.serve_forever()\n",
        "\n",
        "thread = threading.Thread(target=server_entry)\n",
        "thread.start()\n",
        "\n",
        "from google.colab import output\n",
        "output.serve_kernel_port_as_iframe(port, path='/report/report.html')"
      ]
    },
    {
      "cell_type": "code",
      "source": [
        "#@title Download archive\n",
        "#@markdown This will create an archive and download the HTML report to your local environment\n",
        "from google.colab import files\n",
        "import shutil\n",
        "\n",
        "folder_path = '/content/report'\n",
        "\n",
        "# Zip the folder\n",
        "shutil.make_archive('/content/report', 'zip', folder_path)\n",
        "\n",
        "\n",
        "\n",
        "# Download the zip file\n",
        "files.download('/content/report.zip')"
      ],
      "metadata": {
        "cellView": "form",
        "id": "8DTDJEqjYg5z"
      },
      "id": "8DTDJEqjYg5z",
      "execution_count": null,
      "outputs": []
    }
  ],
  "metadata": {
    "colab": {
      "provenance": []
    },
    "kernelspec": {
      "display_name": "Python 3 (ipykernel)",
      "language": "python",
      "name": "python3"
    },
    "language_info": {
      "codemirror_mode": {
        "name": "ipython",
        "version": 3
      },
      "file_extension": ".py",
      "mimetype": "text/x-python",
      "name": "python",
      "nbconvert_exporter": "python",
      "pygments_lexer": "ipython3",
      "version": "3.8.10"
    }
  },
  "nbformat": 4,
  "nbformat_minor": 5
}
